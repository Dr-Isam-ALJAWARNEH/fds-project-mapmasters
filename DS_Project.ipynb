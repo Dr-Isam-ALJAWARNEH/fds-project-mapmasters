!pip install pygeohash
# Import Required Libraries
import os
import pandas as pd
import numpy as np
import geopandas as gpd
from sklearn.cluster import DBSCAN
from sklearn.preprocessing import MinMaxScaler
from sklearn.metrics import mean_absolute_error
from geopy.distance import great_circle
import pygeohash as pgh
import folium
from folium.plugins import MarkerCluster
import matplotlib.pyplot as plt
import seaborn as sns
from shapely.geometry import Point
from shapely.ops import nearest_points
from google.colab import drive
